{
 "cells": [
  {
   "cell_type": "code",
   "execution_count": null,
   "metadata": {},
   "outputs": [],
   "source": []
  },
  {
   "cell_type": "code",
   "execution_count": 150,
   "metadata": {},
   "outputs": [
    {
     "name": "stdout",
     "output_type": "stream",
     "text": [
      "Enter your birthday, YYYY/MM/DD1999/9/12\n",
      "The stars say that you're an exciting and wonderful person but you know they're lying\n"
     ]
    }
   ],
   "source": [
    "import random\n",
    "horoscope_list = [\"Get ready for an unexpected trip as you fall screaming from an open window\", \"The stars say that you're an exciting and wonderful person but you know they're lying\",\"A big promotion is just around the corner for someone much more talented than you\"]\n",
    "birthday_string = input(\"Enter your birthday, YYYY/MM/DD\")\n",
    "split_birthday_list = birthday_string.split('/')\n",
    "birthday_list = list(map(int, split_birthday_list))\n",
    "import datetime\n",
    "day_of_year = (datetime.date(birthday_list[0],birthday_list[1],birthday_list[2])-datetime.date(birthday_list[0],1,1)).days+1\n",
    "def assignSign(birthday):\n",
    "    if(birthday >= 20 and birthday <= 49):\n",
    "        sign = \"Aquarius\"\n",
    "    elif(birthday >= 50 and birthday <= 79):\n",
    "        sign = \"Pisces\"\n",
    "    elif(birthday >= 80 and birthday <= 109):\n",
    "        sign = \"Aries\"\n",
    "    elif(birthday >= 110 and birthday <= 140):\n",
    "        sign = \"Taurus\"\n",
    "    elif(birthday >= 141 and birthday <= 171):\n",
    "        sign = \"Gemini\"\n",
    "    elif(birthday >= 172 and birthday <= 204):\n",
    "        sign = \"Cancer\"\n",
    "    elif(birthday >= 205 and birthday <= 234):\n",
    "        sign = \"Leo\"\n",
    "    elif(birthday >= 235 and birthday <= 265):\n",
    "        sign = \"Virgo\"\n",
    "    elif(birthday >= 266 and birthday <= 295):\n",
    "        sign = \"Libra\"\n",
    "    elif(birthday >= 296 and birthday <= 325):\n",
    "        sign = \"Scorpio\"\n",
    "    elif(birthday >= 326 and birthday <= 355):\n",
    "        sign = \"Sagittarius\"\n",
    "    else:\n",
    "        sign = \"Capricorn\"\n",
    "    return sign\n",
    "sign = assignSign(day_of_year)\n",
    "def Horoscope(sign):\n",
    "    x = random.randint(0,2)\n",
    "    return horoscope_list[x]\n",
    "horoscope = Horoscope(sign)\n",
    "print(horoscope)"
   ]
  },
  {
   "cell_type": "code",
   "execution_count": null,
   "metadata": {},
   "outputs": [],
   "source": []
  },
  {
   "cell_type": "code",
   "execution_count": null,
   "metadata": {},
   "outputs": [],
   "source": []
  }
 ],
 "metadata": {
  "kernelspec": {
   "display_name": "Python 3",
   "language": "python",
   "name": "python3"
  },
  "language_info": {
   "codemirror_mode": {
    "name": "ipython",
    "version": 3
   },
   "file_extension": ".py",
   "mimetype": "text/x-python",
   "name": "python",
   "nbconvert_exporter": "python",
   "pygments_lexer": "ipython3",
   "version": "3.6.8"
  }
 },
 "nbformat": 4,
 "nbformat_minor": 2
}
